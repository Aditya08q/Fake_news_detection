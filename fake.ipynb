{
 "cells": [
  {
   "cell_type": "code",
   "execution_count": 4,
   "id": "4122a875-ff4b-4bce-9137-7915a545b344",
   "metadata": {},
   "outputs": [
    {
     "name": "stdout",
     "output_type": "stream",
     "text": [
      " Model training complete and saved as 'model.pkl'\n"
     ]
    }
   ],
   "source": [
    "#  Import necessary libraries\n",
    "import pandas as pd\n",
    "from sklearn.model_selection import train_test_split\n",
    "from sklearn.feature_extraction.text import TfidfVectorizer\n",
    "from sklearn.linear_model import LogisticRegression\n",
    "from sklearn.pipeline import Pipeline\n",
    "import joblib\n",
    "\n",
    "#  Load and label the datasets\n",
    "df_fake = pd.read_csv('Fake.csv')\n",
    "df_true = pd.read_csv('True.csv')\n",
    "\n",
    "df_fake['label'] = 'FAKE'\n",
    "df_true['label'] = 'REAL'\n",
    "\n",
    "#  Combine and shuffle\n",
    "df = pd.concat([df_fake, df_true]).sample(frac=1).reset_index(drop=True)\n",
    "\n",
    "#  Prepare features and labels\n",
    "X = df['text']\n",
    "y = df['label']\n",
    "\n",
    "# Split into train/test\n",
    "X_train, X_test, y_train, y_test = train_test_split(X, y, test_size=0.2, random_state=42)\n",
    "\n",
    "# Create pipeline (vectorizer + model)\n",
    "pipeline = Pipeline([\n",
    "    ('tfidf', TfidfVectorizer(stop_words='english', max_df=0.7)),\n",
    "    ('model', LogisticRegression())\n",
    "])\n",
    "\n",
    "#  Train the pipeline\n",
    "pipeline.fit(X_train, y_train)\n",
    "\n",
    "#  Save the full pipeline (vectorizer + model)\n",
    "joblib.dump(pipeline, 'model.pkl')\n",
    "\n",
    "print(\"Model training complete and saved as 'model.pkl'\")\n"
   ]
  },
  {
   "cell_type": "code",
   "execution_count": null,
   "id": "1810aed4-fc32-4008-9112-ab0139066a4f",
   "metadata": {},
   "outputs": [],
   "source": []
  }
 ],
 "metadata": {
  "kernelspec": {
   "display_name": "Python 3 (ipykernel)",
   "language": "python",
   "name": "python3"
  },
  "language_info": {
   "codemirror_mode": {
    "name": "ipython",
    "version": 3
   },
   "file_extension": ".py",
   "mimetype": "text/x-python",
   "name": "python",
   "nbconvert_exporter": "python",
   "pygments_lexer": "ipython3",
   "version": "3.13.5"
  }
 },
 "nbformat": 4,
 "nbformat_minor": 5
}
